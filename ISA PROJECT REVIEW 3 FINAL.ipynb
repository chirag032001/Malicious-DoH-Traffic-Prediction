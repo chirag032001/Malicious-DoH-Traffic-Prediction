{
 "cells": [
  {
   "cell_type": "markdown",
   "id": "c97e8bf8",
   "metadata": {},
   "source": [
    "## Importing necessary Libraries"
   ]
  },
  {
   "cell_type": "code",
   "execution_count": 2,
   "id": "048df39a",
   "metadata": {},
   "outputs": [],
   "source": [
    "import numpy as np\n",
    "import pandas as pd\n",
    "import matplotlib.pyplot as plt\n",
    "import seaborn as sns\n",
    "import random"
   ]
  },
  {
   "cell_type": "code",
   "execution_count": 3,
   "id": "ad709741",
   "metadata": {},
   "outputs": [],
   "source": [
    "from sklearn.model_selection import train_test_split\n",
    "from sklearn.metrics import accuracy_score"
   ]
  },
  {
   "cell_type": "code",
   "execution_count": 4,
   "id": "ec24ab68",
   "metadata": {},
   "outputs": [],
   "source": [
    "from sklearn.feature_selection import VarianceThreshold, mutual_info_classif\n",
    "from sklearn.feature_selection import SelectPercentile\n",
    "from genetic_selection import GeneticSelectionCV"
   ]
  },
  {
   "cell_type": "code",
   "execution_count": 5,
   "id": "20a18207",
   "metadata": {},
   "outputs": [
    {
     "data": {
      "text/html": [
       "<div>\n",
       "<style scoped>\n",
       "    .dataframe tbody tr th:only-of-type {\n",
       "        vertical-align: middle;\n",
       "    }\n",
       "\n",
       "    .dataframe tbody tr th {\n",
       "        vertical-align: top;\n",
       "    }\n",
       "\n",
       "    .dataframe thead th {\n",
       "        text-align: right;\n",
       "    }\n",
       "</style>\n",
       "<table border=\"1\" class=\"dataframe\">\n",
       "  <thead>\n",
       "    <tr style=\"text-align: right;\">\n",
       "      <th></th>\n",
       "      <th>SourceIP</th>\n",
       "      <th>DestinationIP</th>\n",
       "      <th>SourcePort</th>\n",
       "      <th>DestinationPort</th>\n",
       "      <th>TimeStamp</th>\n",
       "      <th>Duration</th>\n",
       "      <th>FlowBytesSent</th>\n",
       "      <th>FlowSentRate</th>\n",
       "      <th>FlowBytesReceived</th>\n",
       "      <th>FlowReceivedRate</th>\n",
       "      <th>...</th>\n",
       "      <th>PacketTimeCoefficientofVariation</th>\n",
       "      <th>ResponseTimeTimeVariance</th>\n",
       "      <th>ResponseTimeTimeStandardDeviation</th>\n",
       "      <th>ResponseTimeTimeMean</th>\n",
       "      <th>ResponseTimeTimeMedian</th>\n",
       "      <th>ResponseTimeTimeMode</th>\n",
       "      <th>ResponseTimeTimeSkewFromMedian</th>\n",
       "      <th>ResponseTimeTimeSkewFromMode</th>\n",
       "      <th>ResponseTimeTimeCoefficientofVariation</th>\n",
       "      <th>DoH</th>\n",
       "    </tr>\n",
       "  </thead>\n",
       "  <tbody>\n",
       "    <tr>\n",
       "      <th>0</th>\n",
       "      <td>72.21.91.42</td>\n",
       "      <td>192.168.20.191</td>\n",
       "      <td>443</td>\n",
       "      <td>51041</td>\n",
       "      <td>2020-01-14 15:49:01</td>\n",
       "      <td>4.544040</td>\n",
       "      <td>11256331</td>\n",
       "      <td>2.477164e+06</td>\n",
       "      <td>159324</td>\n",
       "      <td>35062.191354</td>\n",
       "      <td>...</td>\n",
       "      <td>0.580949</td>\n",
       "      <td>1.107852e-07</td>\n",
       "      <td>0.000333</td>\n",
       "      <td>0.000027</td>\n",
       "      <td>0.000016</td>\n",
       "      <td>0.000014</td>\n",
       "      <td>0.096659</td>\n",
       "      <td>0.038228</td>\n",
       "      <td>12.454823</td>\n",
       "      <td>False</td>\n",
       "    </tr>\n",
       "    <tr>\n",
       "      <th>1</th>\n",
       "      <td>192.168.20.191</td>\n",
       "      <td>195.201.169.48</td>\n",
       "      <td>51043</td>\n",
       "      <td>443</td>\n",
       "      <td>2020-01-14 15:49:03</td>\n",
       "      <td>8.171041</td>\n",
       "      <td>930</td>\n",
       "      <td>1.138166e+02</td>\n",
       "      <td>11936</td>\n",
       "      <td>1460.768585</td>\n",
       "      <td>...</td>\n",
       "      <td>1.745138</td>\n",
       "      <td>3.224052e+00</td>\n",
       "      <td>1.795565</td>\n",
       "      <td>0.886579</td>\n",
       "      <td>0.103698</td>\n",
       "      <td>0.000900</td>\n",
       "      <td>1.308024</td>\n",
       "      <td>0.493259</td>\n",
       "      <td>2.025273</td>\n",
       "      <td>False</td>\n",
       "    </tr>\n",
       "    <tr>\n",
       "      <th>2</th>\n",
       "      <td>192.168.20.191</td>\n",
       "      <td>96.17.115.57</td>\n",
       "      <td>51021</td>\n",
       "      <td>443</td>\n",
       "      <td>2020-01-14 15:49:03</td>\n",
       "      <td>0.033776</td>\n",
       "      <td>162</td>\n",
       "      <td>4.796305e+03</td>\n",
       "      <td>138</td>\n",
       "      <td>4085.741355</td>\n",
       "      <td>...</td>\n",
       "      <td>0.500002</td>\n",
       "      <td>0.000000e+00</td>\n",
       "      <td>0.000000</td>\n",
       "      <td>0.033683</td>\n",
       "      <td>0.033683</td>\n",
       "      <td>0.033683</td>\n",
       "      <td>-10.000000</td>\n",
       "      <td>-10.000000</td>\n",
       "      <td>0.000000</td>\n",
       "      <td>False</td>\n",
       "    </tr>\n",
       "    <tr>\n",
       "      <th>3</th>\n",
       "      <td>192.168.20.191</td>\n",
       "      <td>96.114.14.140</td>\n",
       "      <td>50308</td>\n",
       "      <td>443</td>\n",
       "      <td>2020-01-14 15:49:03</td>\n",
       "      <td>0.060723</td>\n",
       "      <td>108</td>\n",
       "      <td>1.778568e+03</td>\n",
       "      <td>120</td>\n",
       "      <td>1976.186947</td>\n",
       "      <td>...</td>\n",
       "      <td>0.577350</td>\n",
       "      <td>0.000000e+00</td>\n",
       "      <td>0.000000</td>\n",
       "      <td>0.060687</td>\n",
       "      <td>0.060687</td>\n",
       "      <td>0.060687</td>\n",
       "      <td>-10.000000</td>\n",
       "      <td>-10.000000</td>\n",
       "      <td>0.000000</td>\n",
       "      <td>False</td>\n",
       "    </tr>\n",
       "    <tr>\n",
       "      <th>4</th>\n",
       "      <td>192.168.20.191</td>\n",
       "      <td>23.78.199.198</td>\n",
       "      <td>50983</td>\n",
       "      <td>443</td>\n",
       "      <td>2020-01-14 15:49:03</td>\n",
       "      <td>0.019545</td>\n",
       "      <td>55</td>\n",
       "      <td>2.814019e+03</td>\n",
       "      <td>66</td>\n",
       "      <td>3376.822717</td>\n",
       "      <td>...</td>\n",
       "      <td>1.000000</td>\n",
       "      <td>0.000000e+00</td>\n",
       "      <td>0.000000</td>\n",
       "      <td>0.019545</td>\n",
       "      <td>0.019545</td>\n",
       "      <td>0.019545</td>\n",
       "      <td>-10.000000</td>\n",
       "      <td>-10.000000</td>\n",
       "      <td>0.000000</td>\n",
       "      <td>False</td>\n",
       "    </tr>\n",
       "  </tbody>\n",
       "</table>\n",
       "<p>5 rows × 35 columns</p>\n",
       "</div>"
      ],
      "text/plain": [
       "         SourceIP   DestinationIP  SourcePort  DestinationPort  \\\n",
       "0     72.21.91.42  192.168.20.191         443            51041   \n",
       "1  192.168.20.191  195.201.169.48       51043              443   \n",
       "2  192.168.20.191    96.17.115.57       51021              443   \n",
       "3  192.168.20.191   96.114.14.140       50308              443   \n",
       "4  192.168.20.191   23.78.199.198       50983              443   \n",
       "\n",
       "             TimeStamp  Duration  FlowBytesSent  FlowSentRate  \\\n",
       "0  2020-01-14 15:49:01  4.544040       11256331  2.477164e+06   \n",
       "1  2020-01-14 15:49:03  8.171041            930  1.138166e+02   \n",
       "2  2020-01-14 15:49:03  0.033776            162  4.796305e+03   \n",
       "3  2020-01-14 15:49:03  0.060723            108  1.778568e+03   \n",
       "4  2020-01-14 15:49:03  0.019545             55  2.814019e+03   \n",
       "\n",
       "   FlowBytesReceived  FlowReceivedRate  ...  PacketTimeCoefficientofVariation  \\\n",
       "0             159324      35062.191354  ...                          0.580949   \n",
       "1              11936       1460.768585  ...                          1.745138   \n",
       "2                138       4085.741355  ...                          0.500002   \n",
       "3                120       1976.186947  ...                          0.577350   \n",
       "4                 66       3376.822717  ...                          1.000000   \n",
       "\n",
       "   ResponseTimeTimeVariance  ResponseTimeTimeStandardDeviation  \\\n",
       "0              1.107852e-07                           0.000333   \n",
       "1              3.224052e+00                           1.795565   \n",
       "2              0.000000e+00                           0.000000   \n",
       "3              0.000000e+00                           0.000000   \n",
       "4              0.000000e+00                           0.000000   \n",
       "\n",
       "   ResponseTimeTimeMean  ResponseTimeTimeMedian  ResponseTimeTimeMode  \\\n",
       "0              0.000027                0.000016              0.000014   \n",
       "1              0.886579                0.103698              0.000900   \n",
       "2              0.033683                0.033683              0.033683   \n",
       "3              0.060687                0.060687              0.060687   \n",
       "4              0.019545                0.019545              0.019545   \n",
       "\n",
       "   ResponseTimeTimeSkewFromMedian  ResponseTimeTimeSkewFromMode  \\\n",
       "0                        0.096659                      0.038228   \n",
       "1                        1.308024                      0.493259   \n",
       "2                      -10.000000                    -10.000000   \n",
       "3                      -10.000000                    -10.000000   \n",
       "4                      -10.000000                    -10.000000   \n",
       "\n",
       "   ResponseTimeTimeCoefficientofVariation    DoH  \n",
       "0                               12.454823  False  \n",
       "1                                2.025273  False  \n",
       "2                                0.000000  False  \n",
       "3                                0.000000  False  \n",
       "4                                0.000000  False  \n",
       "\n",
       "[5 rows x 35 columns]"
      ]
     },
     "execution_count": 5,
     "metadata": {},
     "output_type": "execute_result"
    }
   ],
   "source": [
    "data = pd.read_csv(r'C:\\Users\\Dr. U P Singh\\Desktop\\ISA PROJECT\\DATASET\\all.csv',nrows = 200000)\n",
    "data.head()"
   ]
  },
  {
   "cell_type": "code",
   "execution_count": 5,
   "id": "fffeb84b",
   "metadata": {},
   "outputs": [
    {
     "name": "stdout",
     "output_type": "stream",
     "text": [
      "<class 'pandas.core.frame.DataFrame'>\n",
      "RangeIndex: 200000 entries, 0 to 199999\n",
      "Data columns (total 35 columns):\n",
      " #   Column                                  Non-Null Count   Dtype  \n",
      "---  ------                                  --------------   -----  \n",
      " 0   SourceIP                                200000 non-null  object \n",
      " 1   DestinationIP                           200000 non-null  object \n",
      " 2   SourcePort                              200000 non-null  int64  \n",
      " 3   DestinationPort                         200000 non-null  int64  \n",
      " 4   TimeStamp                               200000 non-null  object \n",
      " 5   Duration                                200000 non-null  float64\n",
      " 6   FlowBytesSent                           200000 non-null  int64  \n",
      " 7   FlowSentRate                            200000 non-null  float64\n",
      " 8   FlowBytesReceived                       200000 non-null  int64  \n",
      " 9   FlowReceivedRate                        200000 non-null  float64\n",
      " 10  PacketLengthVariance                    200000 non-null  float64\n",
      " 11  PacketLengthStandardDeviation           200000 non-null  float64\n",
      " 12  PacketLengthMean                        200000 non-null  float64\n",
      " 13  PacketLengthMedian                      200000 non-null  float64\n",
      " 14  PacketLengthMode                        200000 non-null  int64  \n",
      " 15  PacketLengthSkewFromMedian              200000 non-null  float64\n",
      " 16  PacketLengthSkewFromMode                200000 non-null  float64\n",
      " 17  PacketLengthCoefficientofVariation      200000 non-null  float64\n",
      " 18  PacketTimeVariance                      200000 non-null  float64\n",
      " 19  PacketTimeStandardDeviation             200000 non-null  float64\n",
      " 20  PacketTimeMean                          200000 non-null  float64\n",
      " 21  PacketTimeMedian                        200000 non-null  float64\n",
      " 22  PacketTimeMode                          200000 non-null  float64\n",
      " 23  PacketTimeSkewFromMedian                200000 non-null  float64\n",
      " 24  PacketTimeSkewFromMode                  200000 non-null  float64\n",
      " 25  PacketTimeCoefficientofVariation        200000 non-null  float64\n",
      " 26  ResponseTimeTimeVariance                200000 non-null  float64\n",
      " 27  ResponseTimeTimeStandardDeviation       200000 non-null  float64\n",
      " 28  ResponseTimeTimeMean                    200000 non-null  float64\n",
      " 29  ResponseTimeTimeMedian                  198289 non-null  float64\n",
      " 30  ResponseTimeTimeMode                    200000 non-null  float64\n",
      " 31  ResponseTimeTimeSkewFromMedian          198289 non-null  float64\n",
      " 32  ResponseTimeTimeSkewFromMode            200000 non-null  float64\n",
      " 33  ResponseTimeTimeCoefficientofVariation  200000 non-null  float64\n",
      " 34  DoH                                     200000 non-null  bool   \n",
      "dtypes: bool(1), float64(26), int64(5), object(3)\n",
      "memory usage: 52.1+ MB\n"
     ]
    }
   ],
   "source": [
    "data.info()"
   ]
  },
  {
   "cell_type": "code",
   "execution_count": 6,
   "id": "56b03f21",
   "metadata": {},
   "outputs": [
    {
     "data": {
      "text/html": [
       "<div>\n",
       "<style scoped>\n",
       "    .dataframe tbody tr th:only-of-type {\n",
       "        vertical-align: middle;\n",
       "    }\n",
       "\n",
       "    .dataframe tbody tr th {\n",
       "        vertical-align: top;\n",
       "    }\n",
       "\n",
       "    .dataframe thead th {\n",
       "        text-align: right;\n",
       "    }\n",
       "</style>\n",
       "<table border=\"1\" class=\"dataframe\">\n",
       "  <thead>\n",
       "    <tr style=\"text-align: right;\">\n",
       "      <th></th>\n",
       "      <th>SourcePort</th>\n",
       "      <th>DestinationPort</th>\n",
       "      <th>Duration</th>\n",
       "      <th>FlowBytesSent</th>\n",
       "      <th>FlowSentRate</th>\n",
       "      <th>FlowBytesReceived</th>\n",
       "      <th>FlowReceivedRate</th>\n",
       "      <th>PacketLengthVariance</th>\n",
       "      <th>PacketLengthStandardDeviation</th>\n",
       "      <th>PacketLengthMean</th>\n",
       "      <th>...</th>\n",
       "      <th>PacketTimeSkewFromMode</th>\n",
       "      <th>PacketTimeCoefficientofVariation</th>\n",
       "      <th>ResponseTimeTimeVariance</th>\n",
       "      <th>ResponseTimeTimeStandardDeviation</th>\n",
       "      <th>ResponseTimeTimeMean</th>\n",
       "      <th>ResponseTimeTimeMedian</th>\n",
       "      <th>ResponseTimeTimeMode</th>\n",
       "      <th>ResponseTimeTimeSkewFromMedian</th>\n",
       "      <th>ResponseTimeTimeSkewFromMode</th>\n",
       "      <th>ResponseTimeTimeCoefficientofVariation</th>\n",
       "    </tr>\n",
       "  </thead>\n",
       "  <tbody>\n",
       "    <tr>\n",
       "      <th>count</th>\n",
       "      <td>200000.000000</td>\n",
       "      <td>200000.000000</td>\n",
       "      <td>200000.000000</td>\n",
       "      <td>2.000000e+05</td>\n",
       "      <td>2.000000e+05</td>\n",
       "      <td>2.000000e+05</td>\n",
       "      <td>2.000000e+05</td>\n",
       "      <td>2.000000e+05</td>\n",
       "      <td>200000.000000</td>\n",
       "      <td>200000.000000</td>\n",
       "      <td>...</td>\n",
       "      <td>200000.000000</td>\n",
       "      <td>200000.000000</td>\n",
       "      <td>2.000000e+05</td>\n",
       "      <td>200000.000000</td>\n",
       "      <td>200000.000000</td>\n",
       "      <td>198289.000000</td>\n",
       "      <td>200000.000000</td>\n",
       "      <td>198289.000000</td>\n",
       "      <td>200000.000000</td>\n",
       "      <td>200000.000000</td>\n",
       "    </tr>\n",
       "    <tr>\n",
       "      <th>mean</th>\n",
       "      <td>55826.181665</td>\n",
       "      <td>2172.048540</td>\n",
       "      <td>7.440621</td>\n",
       "      <td>2.481956e+03</td>\n",
       "      <td>8.930446e+03</td>\n",
       "      <td>4.138672e+04</td>\n",
       "      <td>2.794565e+04</td>\n",
       "      <td>1.442257e+05</td>\n",
       "      <td>253.247917</td>\n",
       "      <td>261.018875</td>\n",
       "      <td>...</td>\n",
       "      <td>0.801294</td>\n",
       "      <td>1.067223</td>\n",
       "      <td>1.430609e+00</td>\n",
       "      <td>0.206892</td>\n",
       "      <td>0.121758</td>\n",
       "      <td>0.054478</td>\n",
       "      <td>0.028023</td>\n",
       "      <td>-3.917869</td>\n",
       "      <td>-3.194660</td>\n",
       "      <td>0.545368</td>\n",
       "    </tr>\n",
       "    <tr>\n",
       "      <th>std</th>\n",
       "      <td>10596.021798</td>\n",
       "      <td>9810.109977</td>\n",
       "      <td>15.524360</td>\n",
       "      <td>3.032173e+04</td>\n",
       "      <td>1.796961e+05</td>\n",
       "      <td>3.864548e+05</td>\n",
       "      <td>1.589908e+05</td>\n",
       "      <td>3.078262e+05</td>\n",
       "      <td>283.004638</td>\n",
       "      <td>272.164856</td>\n",
       "      <td>...</td>\n",
       "      <td>1.012612</td>\n",
       "      <td>0.621931</td>\n",
       "      <td>1.221105e+01</td>\n",
       "      <td>1.185294</td>\n",
       "      <td>0.799692</td>\n",
       "      <td>0.637875</td>\n",
       "      <td>0.606437</td>\n",
       "      <td>4.974411</td>\n",
       "      <td>5.425105</td>\n",
       "      <td>1.225331</td>\n",
       "    </tr>\n",
       "    <tr>\n",
       "      <th>min</th>\n",
       "      <td>443.000000</td>\n",
       "      <td>443.000000</td>\n",
       "      <td>0.000000</td>\n",
       "      <td>0.000000e+00</td>\n",
       "      <td>-1.000000e+00</td>\n",
       "      <td>0.000000e+00</td>\n",
       "      <td>-1.000000e+00</td>\n",
       "      <td>0.000000e+00</td>\n",
       "      <td>0.000000</td>\n",
       "      <td>54.000000</td>\n",
       "      <td>...</td>\n",
       "      <td>-10.000000</td>\n",
       "      <td>-1.000000</td>\n",
       "      <td>-1.000000e+00</td>\n",
       "      <td>-1.000000</td>\n",
       "      <td>-1.000000</td>\n",
       "      <td>0.000004</td>\n",
       "      <td>-1.000000</td>\n",
       "      <td>-10.000000</td>\n",
       "      <td>-10.000000</td>\n",
       "      <td>0.000000</td>\n",
       "    </tr>\n",
       "    <tr>\n",
       "      <th>25%</th>\n",
       "      <td>54125.000000</td>\n",
       "      <td>443.000000</td>\n",
       "      <td>0.027014</td>\n",
       "      <td>5.500000e+01</td>\n",
       "      <td>2.725979e+02</td>\n",
       "      <td>6.600000e+01</td>\n",
       "      <td>5.232016e+02</td>\n",
       "      <td>3.025000e+01</td>\n",
       "      <td>5.500000</td>\n",
       "      <td>60.500000</td>\n",
       "      <td>...</td>\n",
       "      <td>0.508485</td>\n",
       "      <td>0.639345</td>\n",
       "      <td>0.000000e+00</td>\n",
       "      <td>0.000000</td>\n",
       "      <td>0.015231</td>\n",
       "      <td>0.015219</td>\n",
       "      <td>0.000061</td>\n",
       "      <td>-10.000000</td>\n",
       "      <td>-10.000000</td>\n",
       "      <td>0.000000</td>\n",
       "    </tr>\n",
       "    <tr>\n",
       "      <th>50%</th>\n",
       "      <td>57631.000000</td>\n",
       "      <td>443.000000</td>\n",
       "      <td>0.256482</td>\n",
       "      <td>4.080000e+02</td>\n",
       "      <td>1.930990e+03</td>\n",
       "      <td>4.280000e+02</td>\n",
       "      <td>2.617074e+03</td>\n",
       "      <td>2.424758e+03</td>\n",
       "      <td>49.241708</td>\n",
       "      <td>95.271341</td>\n",
       "      <td>...</td>\n",
       "      <td>1.000000</td>\n",
       "      <td>1.000000</td>\n",
       "      <td>1.440000e-08</td>\n",
       "      <td>0.000120</td>\n",
       "      <td>0.024780</td>\n",
       "      <td>0.024968</td>\n",
       "      <td>0.015234</td>\n",
       "      <td>-1.509572</td>\n",
       "      <td>0.569581</td>\n",
       "      <td>0.005424</td>\n",
       "    </tr>\n",
       "    <tr>\n",
       "      <th>75%</th>\n",
       "      <td>60708.000000</td>\n",
       "      <td>443.000000</td>\n",
       "      <td>7.933046</td>\n",
       "      <td>2.037000e+03</td>\n",
       "      <td>3.622234e+03</td>\n",
       "      <td>6.380000e+03</td>\n",
       "      <td>6.163086e+03</td>\n",
       "      <td>2.646502e+05</td>\n",
       "      <td>514.441684</td>\n",
       "      <td>385.353992</td>\n",
       "      <td>...</td>\n",
       "      <td>1.000341</td>\n",
       "      <td>1.160221</td>\n",
       "      <td>1.586456e-04</td>\n",
       "      <td>0.012595</td>\n",
       "      <td>0.044141</td>\n",
       "      <td>0.034299</td>\n",
       "      <td>0.026901</td>\n",
       "      <td>0.276325</td>\n",
       "      <td>1.151515</td>\n",
       "      <td>0.715006</td>\n",
       "    </tr>\n",
       "    <tr>\n",
       "      <th>max</th>\n",
       "      <td>65534.000000</td>\n",
       "      <td>65525.000000</td>\n",
       "      <td>157.235105</td>\n",
       "      <td>1.125633e+07</td>\n",
       "      <td>4.586538e+07</td>\n",
       "      <td>4.775828e+07</td>\n",
       "      <td>6.750000e+06</td>\n",
       "      <td>2.790438e+07</td>\n",
       "      <td>5282.460002</td>\n",
       "      <td>2232.744681</td>\n",
       "      <td>...</td>\n",
       "      <td>7.645960</td>\n",
       "      <td>8.777577</td>\n",
       "      <td>5.062235e+02</td>\n",
       "      <td>22.499412</td>\n",
       "      <td>45.011506</td>\n",
       "      <td>45.011506</td>\n",
       "      <td>45.011506</td>\n",
       "      <td>2.867107</td>\n",
       "      <td>5.589000</td>\n",
       "      <td>73.665470</td>\n",
       "    </tr>\n",
       "  </tbody>\n",
       "</table>\n",
       "<p>8 rows × 31 columns</p>\n",
       "</div>"
      ],
      "text/plain": [
       "          SourcePort  DestinationPort       Duration  FlowBytesSent  \\\n",
       "count  200000.000000    200000.000000  200000.000000   2.000000e+05   \n",
       "mean    55826.181665      2172.048540       7.440621   2.481956e+03   \n",
       "std     10596.021798      9810.109977      15.524360   3.032173e+04   \n",
       "min       443.000000       443.000000       0.000000   0.000000e+00   \n",
       "25%     54125.000000       443.000000       0.027014   5.500000e+01   \n",
       "50%     57631.000000       443.000000       0.256482   4.080000e+02   \n",
       "75%     60708.000000       443.000000       7.933046   2.037000e+03   \n",
       "max     65534.000000     65525.000000     157.235105   1.125633e+07   \n",
       "\n",
       "       FlowSentRate  FlowBytesReceived  FlowReceivedRate  \\\n",
       "count  2.000000e+05       2.000000e+05      2.000000e+05   \n",
       "mean   8.930446e+03       4.138672e+04      2.794565e+04   \n",
       "std    1.796961e+05       3.864548e+05      1.589908e+05   \n",
       "min   -1.000000e+00       0.000000e+00     -1.000000e+00   \n",
       "25%    2.725979e+02       6.600000e+01      5.232016e+02   \n",
       "50%    1.930990e+03       4.280000e+02      2.617074e+03   \n",
       "75%    3.622234e+03       6.380000e+03      6.163086e+03   \n",
       "max    4.586538e+07       4.775828e+07      6.750000e+06   \n",
       "\n",
       "       PacketLengthVariance  PacketLengthStandardDeviation  PacketLengthMean  \\\n",
       "count          2.000000e+05                  200000.000000     200000.000000   \n",
       "mean           1.442257e+05                     253.247917        261.018875   \n",
       "std            3.078262e+05                     283.004638        272.164856   \n",
       "min            0.000000e+00                       0.000000         54.000000   \n",
       "25%            3.025000e+01                       5.500000         60.500000   \n",
       "50%            2.424758e+03                      49.241708         95.271341   \n",
       "75%            2.646502e+05                     514.441684        385.353992   \n",
       "max            2.790438e+07                    5282.460002       2232.744681   \n",
       "\n",
       "       ...  PacketTimeSkewFromMode  PacketTimeCoefficientofVariation  \\\n",
       "count  ...           200000.000000                     200000.000000   \n",
       "mean   ...                0.801294                          1.067223   \n",
       "std    ...                1.012612                          0.621931   \n",
       "min    ...              -10.000000                         -1.000000   \n",
       "25%    ...                0.508485                          0.639345   \n",
       "50%    ...                1.000000                          1.000000   \n",
       "75%    ...                1.000341                          1.160221   \n",
       "max    ...                7.645960                          8.777577   \n",
       "\n",
       "       ResponseTimeTimeVariance  ResponseTimeTimeStandardDeviation  \\\n",
       "count              2.000000e+05                      200000.000000   \n",
       "mean               1.430609e+00                           0.206892   \n",
       "std                1.221105e+01                           1.185294   \n",
       "min               -1.000000e+00                          -1.000000   \n",
       "25%                0.000000e+00                           0.000000   \n",
       "50%                1.440000e-08                           0.000120   \n",
       "75%                1.586456e-04                           0.012595   \n",
       "max                5.062235e+02                          22.499412   \n",
       "\n",
       "       ResponseTimeTimeMean  ResponseTimeTimeMedian  ResponseTimeTimeMode  \\\n",
       "count         200000.000000           198289.000000         200000.000000   \n",
       "mean               0.121758                0.054478              0.028023   \n",
       "std                0.799692                0.637875              0.606437   \n",
       "min               -1.000000                0.000004             -1.000000   \n",
       "25%                0.015231                0.015219              0.000061   \n",
       "50%                0.024780                0.024968              0.015234   \n",
       "75%                0.044141                0.034299              0.026901   \n",
       "max               45.011506               45.011506             45.011506   \n",
       "\n",
       "       ResponseTimeTimeSkewFromMedian  ResponseTimeTimeSkewFromMode  \\\n",
       "count                   198289.000000                 200000.000000   \n",
       "mean                        -3.917869                     -3.194660   \n",
       "std                          4.974411                      5.425105   \n",
       "min                        -10.000000                    -10.000000   \n",
       "25%                        -10.000000                    -10.000000   \n",
       "50%                         -1.509572                      0.569581   \n",
       "75%                          0.276325                      1.151515   \n",
       "max                          2.867107                      5.589000   \n",
       "\n",
       "       ResponseTimeTimeCoefficientofVariation  \n",
       "count                           200000.000000  \n",
       "mean                                 0.545368  \n",
       "std                                  1.225331  \n",
       "min                                  0.000000  \n",
       "25%                                  0.000000  \n",
       "50%                                  0.005424  \n",
       "75%                                  0.715006  \n",
       "max                                 73.665470  \n",
       "\n",
       "[8 rows x 31 columns]"
      ]
     },
     "execution_count": 6,
     "metadata": {},
     "output_type": "execute_result"
    }
   ],
   "source": [
    "data.describe()"
   ]
  },
  {
   "cell_type": "markdown",
   "id": "a2ced3da",
   "metadata": {},
   "source": [
    "### Differentiating the Depedent Feature from Independent Features"
   ]
  },
  {
   "cell_type": "code",
   "execution_count": 6,
   "id": "f7a03ff7",
   "metadata": {},
   "outputs": [
    {
     "data": {
      "text/plain": [
       "((200000, 29), (200000,))"
      ]
     },
     "execution_count": 6,
     "metadata": {},
     "output_type": "execute_result"
    }
   ],
   "source": [
    "X = data.drop(labels=['DoH', 'TimeStamp', 'SourceIP', 'DestinationIP','ResponseTimeTimeMedian','ResponseTimeTimeSkewFromMedian'], axis = 1)\n",
    "y = data['DoH']\n",
    "X.shape, y.shape"
   ]
  },
  {
   "cell_type": "markdown",
   "id": "d111de1f",
   "metadata": {},
   "source": [
    "### Train-Test Split"
   ]
  },
  {
   "cell_type": "code",
   "execution_count": 7,
   "id": "42f34411",
   "metadata": {},
   "outputs": [],
   "source": [
    "X_train, X_test, y_train, y_test = train_test_split(X, y, test_size = 0.2, random_state = 0, stratify = y)"
   ]
  },
  {
   "cell_type": "markdown",
   "id": "67fc22f1",
   "metadata": {},
   "source": [
    "### Removing Constant, Quasi-Constant and Duplicate Features"
   ]
  },
  {
   "cell_type": "code",
   "execution_count": 9,
   "id": "7b9aba88",
   "metadata": {},
   "outputs": [],
   "source": [
    "constant_filter = VarianceThreshold(threshold=0.01)\n",
    "constant_filter.fit(X_train)\n",
    "X_train_filter = constant_filter.transform(X_train)\n",
    "X_test_filter = constant_filter.transform(X_test)"
   ]
  },
  {
   "cell_type": "code",
   "execution_count": 10,
   "id": "b0e077c1",
   "metadata": {},
   "outputs": [],
   "source": [
    "X_train_T = X_train_filter.T\n",
    "X_test_T = X_test_filter.T\n",
    "X_train_T = pd.DataFrame(X_train_T)\n",
    "X_test_T = pd.DataFrame(X_test_T)\n",
    "X_train_T = pd.DataFrame(X_train_T).T\n",
    "X_test_T = pd.DataFrame(X_test_T).T"
   ]
  },
  {
   "cell_type": "markdown",
   "id": "57b8f4fe",
   "metadata": {},
   "source": [
    "# Mutual Information based Feature Selection"
   ]
  },
  {
   "cell_type": "code",
   "execution_count": 11,
   "id": "bee409a7",
   "metadata": {},
   "outputs": [
    {
     "data": {
      "text/plain": [
       "29"
      ]
     },
     "execution_count": 11,
     "metadata": {},
     "output_type": "execute_result"
    }
   ],
   "source": [
    "mi = mutual_info_classif(X_train_T, y_train) \n",
    "len(mi)"
   ]
  },
  {
   "cell_type": "code",
   "execution_count": 45,
   "id": "c881d270",
   "metadata": {},
   "outputs": [
    {
     "data": {
      "text/plain": [
       "array([0.00644468, 0.00578333, 0.00696703, 0.01098976, 0.00370208,\n",
       "       0.00434955, 0.00350303, 0.01312845, 0.01334176, 0.01443336,\n",
       "       0.02025903, 0.01156721, 0.00917832, 0.01111902, 0.00643526,\n",
       "       0.00576423, 0.00576448, 0.00583466, 0.00592873, 0.00387598,\n",
       "       0.00199762, 0.00673664, 0.00628012, 0.00367361, 0.00364222,\n",
       "       0.00302811, 0.00673208, 0.01766721, 0.00428554])"
      ]
     },
     "execution_count": 45,
     "metadata": {},
     "output_type": "execute_result"
    }
   ],
   "source": [
    "mi"
   ]
  },
  {
   "cell_type": "code",
   "execution_count": 46,
   "id": "42524e39",
   "metadata": {},
   "outputs": [],
   "source": [
    "mi = pd.Series(mi)\n",
    "mi.index = X_train_T.columns"
   ]
  },
  {
   "cell_type": "code",
   "execution_count": 47,
   "id": "25c17247",
   "metadata": {},
   "outputs": [],
   "source": [
    "mi.sort_values(ascending=False, inplace = True)"
   ]
  },
  {
   "cell_type": "code",
   "execution_count": 48,
   "id": "1bebd317",
   "metadata": {},
   "outputs": [
    {
     "data": {
      "image/png": "[encoded data removed]",
      "text/plain": [
       "<Figure size 1152x360 with 1 Axes>"
      ]
     },
     "metadata": {
      "needs_background": "light"
     },
     "output_type": "display_data"
    }
   ],
   "source": [
    "plt.title('Mutual information with respect to features')\n",
    "mi.plot.bar(figsize = (16,5))\n",
    "plt.show()"
   ]
  },
  {
   "cell_type": "markdown",
   "id": "74ac87d9",
   "metadata": {},
   "source": [
    "### Selecting Top 30 Percentile Features"
   ]
  },
  {
   "cell_type": "code",
   "execution_count": 79,
   "id": "d2b7310a",
   "metadata": {},
   "outputs": [
    {
     "data": {
      "text/plain": [
       "Int64Index([3, 7, 8, 9, 10, 11, 12, 13, 27], dtype='int64')"
      ]
     },
     "execution_count": 79,
     "metadata": {},
     "output_type": "execute_result"
    }
   ],
   "source": [
    "sel = SelectPercentile(mutual_info_classif, percentile=30).fit(X_train_T, y_train)\n",
    "X_train_T.columns[sel.get_support()]"
   ]
  },
  {
   "cell_type": "code",
   "execution_count": 80,
   "id": "47f522d7",
   "metadata": {},
   "outputs": [
    {
     "data": {
      "text/plain": [
       "9"
      ]
     },
     "execution_count": 80,
     "metadata": {},
     "output_type": "execute_result"
    }
   ],
   "source": [
    "len(X_train_T.columns[sel.get_support()])"
   ]
  },
  {
   "cell_type": "markdown",
   "id": "86d8b05f",
   "metadata": {},
   "source": [
    "### Transforming Training & Testing Dataset"
   ]
  },
  {
   "cell_type": "code",
   "execution_count": 81,
   "id": "db2c1a0f",
   "metadata": {},
   "outputs": [
    {
     "data": {
      "text/plain": [
       "(160000, 9)"
      ]
     },
     "execution_count": 81,
     "metadata": {},
     "output_type": "execute_result"
    }
   ],
   "source": [
    "X_train_mi = sel.transform(X_train_T)\n",
    "X_test_mi = sel.transform(X_test_T)\n",
    "X_train_mi.shape"
   ]
  },
  {
   "cell_type": "markdown",
   "id": "7fd796ea",
   "metadata": {},
   "source": [
    "## Applying Machine Learning Models for Test Dataset Prediction:\n",
    "### Random Forest"
   ]
  },
  {
   "cell_type": "code",
   "execution_count": 29,
   "id": "60232565",
   "metadata": {},
   "outputs": [],
   "source": [
    "from sklearn.ensemble import RandomForestClassifier\n",
    "from sklearn.metrics import roc_curve\n",
    "\n",
    "from sklearn.metrics import classification_report, precision_score, recall_score\n",
    "def run_randomForest(X_train, X_test, y_train, y_test):\n",
    "    clf = RandomForestClassifier(n_estimators=100, random_state=0, n_jobs=-1)\n",
    "    clf.fit(X_train, y_train)\n",
    "    y_pred = clf.predict(X_test)\n",
    "    print('Accuracy on test set: ')\n",
    "    print(accuracy_score(y_test, y_pred))\n",
    "    print('Precision score: ')\n",
    "    print(precision_score(y_test, y_pred, average='macro'),'\\n')\n",
    "    print('Recall score: ')\n",
    "    print(recall_score(y_test, y_pred, average='macro'),'\\n')\n",
    "    print('Classification Report: ')\n",
    "    print(classification_report(y_test, y_pred))\n",
    "    \n",
    "    pred_prob1 = clf.predict_proba(X_test)\n",
    "    fpr1, tpr1, thresh1 = roc_curve(y_test, pred_prob1[:,1], pos_label=1)\n",
    "\n",
    "    # roc curve for tpr = fpr \n",
    "    random_probs = [0 for i in range(len(y_test))]\n",
    "    p_fpr, p_tpr, _ = roc_curve(y_test, random_probs, pos_label=1)\n",
    "    \n",
    "    # matplotlib\n",
    "    plt.style.use('seaborn')\n",
    "\n",
    "    # plot roc curves\n",
    "    plt.plot(fpr1, tpr1, linestyle='--',color='orange', label='Random Forest')\n",
    "    plt.plot(p_fpr, p_tpr, linestyle='--', color='blue')\n",
    "    # title\n",
    "    plt.title('ROC curve')\n",
    "    # x label\n",
    "    plt.xlabel('False Positive Rate')\n",
    "    # y label\n",
    "    plt.ylabel('True Positive rate')\n",
    "\n",
    "    plt.legend(loc='best')\n",
    "    plt.savefig('ROC',dpi=300)\n",
    "    plt.show();"
   ]
  },
  {
   "cell_type": "code",
   "execution_count": 27,
   "id": "40087e91",
   "metadata": {},
   "outputs": [
    {
     "ename": "NameError",
     "evalue": "name 'X_train_mi' is not defined",
     "output_type": "error",
     "traceback": [
      "\u001b[1;31m---------------------------------------------------------------------------\u001b[0m",
      "\u001b[1;31mNameError\u001b[0m                                 Traceback (most recent call last)",
      "\u001b[1;32m<timed eval>\u001b[0m in \u001b[0;36m<module>\u001b[1;34m\u001b[0m\n",
      "\u001b[1;31mNameError\u001b[0m: name 'X_train_mi' is not defined"
     ]
    }
   ],
   "source": [
    "%%time\n",
    "run_randomForest(X_train_mi, X_test_mi, y_train, y_test)"
   ]
  },
  {
   "cell_type": "markdown",
   "id": "530be0a6",
   "metadata": {},
   "source": [
    "Accuracy Score with Original Features:"
   ]
  },
  {
   "cell_type": "code",
   "execution_count": 30,
   "id": "7b49b198",
   "metadata": {},
   "outputs": [
    {
     "name": "stdout",
     "output_type": "stream",
     "text": [
      "Accuracy on test set: \n",
      "0.998\n",
      "Precision score: \n",
      "0.9806663072264878 \n",
      "\n",
      "Recall score: \n",
      "0.839751404186014 \n",
      "\n",
      "Classification Report: \n",
      "              precision    recall  f1-score   support\n",
      "\n",
      "       False       1.00      1.00      1.00     39769\n",
      "        True       0.96      0.68      0.80       231\n",
      "\n",
      "    accuracy                           1.00     40000\n",
      "   macro avg       0.98      0.84      0.90     40000\n",
      "weighted avg       1.00      1.00      1.00     40000\n",
      "\n"
     ]
    },
    {
     "data": {
      "image/png": "[encoded data removed]",
      "text/plain": [
       "<Figure size 576x396 with 1 Axes>"
      ]
     },
     "metadata": {},
     "output_type": "display_data"
    },
    {
     "name": "stdout",
     "output_type": "stream",
     "text": [
      "Wall time: 22.9 s\n"
     ]
    }
   ],
   "source": [
    "%%time\n",
    "run_randomForest(X_train, X_test, y_train, y_test)"
   ]
  },
  {
   "cell_type": "markdown",
   "id": "e7e02aea",
   "metadata": {},
   "source": [
    "#### Decision Tree"
   ]
  },
  {
   "cell_type": "code",
   "execution_count": 31,
   "id": "4ddfeb2e",
   "metadata": {},
   "outputs": [],
   "source": [
    "from sklearn.tree import DecisionTreeClassifier\n",
    "def run_DecisionTree(X_train, X_test, y_train, y_test):\n",
    "    clf = DecisionTreeClassifier(criterion='gini', random_state=0)\n",
    "    clf.fit(X_train, y_train)\n",
    "    y_pred = clf.predict(X_test)\n",
    "    print('Accuracy on test set: ')\n",
    "    print(accuracy_score(y_test, y_pred))\n",
    "    print('Precision score: ')\n",
    "    print(precision_score(y_test, y_pred, average='macro'),'\\n')\n",
    "    print('Recall score: ')\n",
    "    print(recall_score(y_test, y_pred, average='macro'),'\\n')\n",
    "    print('Classification Report: ')\n",
    "    print(classification_report(y_test, y_pred))\n",
    "    \n",
    "    pred_prob1 = clf.predict_proba(X_test)\n",
    "    fpr1, tpr1, thresh1 = roc_curve(y_test, pred_prob1[:,1], pos_label=1)\n",
    "\n",
    "    # roc curve for tpr = fpr \n",
    "    random_probs = [0 for i in range(len(y_test))]\n",
    "    p_fpr, p_tpr, _ = roc_curve(y_test, random_probs, pos_label=1)\n",
    "    \n",
    "    # matplotlib\n",
    "    plt.style.use('seaborn')\n",
    "\n",
    "    # plot roc curves\n",
    "    plt.plot(fpr1, tpr1, linestyle='--',color='orange', label='Decision Tree')\n",
    "    plt.plot(p_fpr, p_tpr, linestyle='--', color='blue')\n",
    "    # title\n",
    "    plt.title('ROC curve')\n",
    "    # x label\n",
    "    plt.xlabel('False Positive Rate')\n",
    "    # y label\n",
    "    plt.ylabel('True Positive rate')\n",
    "\n",
    "    plt.legend(loc='best')\n",
    "    plt.savefig('ROC',dpi=300)\n",
    "    plt.show();"
   ]
  },
  {
   "cell_type": "code",
   "execution_count": 88,
   "id": "3618cef7",
   "metadata": {},
   "outputs": [
    {
     "name": "stdout",
     "output_type": "stream",
     "text": [
      "Accuracy on test set: \n",
      "0.9974\n",
      "Precision score: \n",
      "0.9011222392984204 \n",
      "\n",
      "Recall score: \n",
      "0.8631208867573876 \n",
      "\n",
      "Classification Report: \n",
      "              precision    recall  f1-score   support\n",
      "\n",
      "       False       1.00      1.00      1.00     39769\n",
      "        True       0.80      0.73      0.76       231\n",
      "\n",
      "    accuracy                           1.00     40000\n",
      "   macro avg       0.90      0.86      0.88     40000\n",
      "weighted avg       1.00      1.00      1.00     40000\n",
      "\n",
      "Wall time: 3.92 s\n"
     ]
    }
   ],
   "source": [
    "%%time\n",
    "run_DecisionTree(X_train_mi, X_test_mi, y_train, y_test)"
   ]
  },
  {
   "cell_type": "markdown",
   "id": "940b4f51",
   "metadata": {},
   "source": [
    "Accuracy Score with Original Features:"
   ]
  },
  {
   "cell_type": "code",
   "execution_count": 42,
   "id": "0df541f3",
   "metadata": {
    "scrolled": false
   },
   "outputs": [
    {
     "name": "stdout",
     "output_type": "stream",
     "text": [
      "Accuracy on test set: \n",
      "0.997375\n",
      "Precision score: \n",
      "0.8744716715306431 \n",
      "\n",
      "Recall score: \n",
      "0.9082988348622385 \n",
      "\n",
      "Classification Report: \n",
      "              precision    recall  f1-score   support\n",
      "\n",
      "       False       1.00      1.00      1.00     39769\n",
      "        True       0.75      0.82      0.78       231\n",
      "\n",
      "    accuracy                           1.00     40000\n",
      "   macro avg       0.87      0.91      0.89     40000\n",
      "weighted avg       1.00      1.00      1.00     40000\n",
      "\n"
     ]
    },
    {
     "data": {
      "image/png": "[encoded data removed]",
      "text/plain": [
       "<Figure size 576x396 with 1 Axes>"
      ]
     },
     "metadata": {},
     "output_type": "display_data"
    },
    {
     "name": "stdout",
     "output_type": "stream",
     "text": [
      "Wall time: 16 s\n"
     ]
    }
   ],
   "source": [
    "%%time\n",
    "run_DecisionTree(X_train, X_test, y_train, y_test)"
   ]
  },
  {
   "cell_type": "markdown",
   "id": "0f88f765",
   "metadata": {},
   "source": [
    "#### KNN"
   ]
  },
  {
   "cell_type": "code",
   "execution_count": 43,
   "id": "dc5200e0",
   "metadata": {},
   "outputs": [],
   "source": [
    "from sklearn.neighbors import KNeighborsClassifier\n",
    "def run_KNN(X_train, X_test, y_train, y_test):\n",
    "    knn = KNeighborsClassifier(n_neighbors = 1).fit(X_train, y_train)\n",
    "    y_pred = knn.predict(X_test)\n",
    "    print('Accuracy on test set: ')\n",
    "    print(accuracy_score(y_test, y_pred))\n",
    "    print('Precision score: ')\n",
    "    print(precision_score(y_test, y_pred, average='macro'),'\\n')\n",
    "    print('Recall score: ')\n",
    "    print(recall_score(y_test, y_pred, average='macro'),'\\n')\n",
    "    print('Classification Report: ')\n",
    "    print(classification_report(y_test, y_pred))\n",
    "    \n",
    "    pred_prob1 = knn.predict_proba(X_test)\n",
    "    fpr1, tpr1, thresh1 = roc_curve(y_test, pred_prob1[:,1], pos_label=1)\n",
    "\n",
    "    # roc curve for tpr = fpr \n",
    "    random_probs = [0 for i in range(len(y_test))]\n",
    "    p_fpr, p_tpr, _ = roc_curve(y_test, random_probs, pos_label=1)\n",
    "    \n",
    "    # matplotlib\n",
    "    plt.style.use('seaborn')\n",
    "\n",
    "    # plot roc curves\n",
    "    plt.plot(fpr1, tpr1, linestyle='--',color='orange', label='KNN')\n",
    "    plt.plot(p_fpr, p_tpr, linestyle='--', color='blue')\n",
    "    # title\n",
    "    plt.title('ROC curve')\n",
    "    # x label\n",
    "    plt.xlabel('False Positive Rate')\n",
    "    # y label\n",
    "    plt.ylabel('True Positive rate')\n",
    "\n",
    "    plt.legend(loc='best')\n",
    "    plt.savefig('ROC',dpi=300)\n",
    "    plt.show();"
   ]
  },
  {
   "cell_type": "code",
   "execution_count": 92,
   "id": "5a406a45",
   "metadata": {},
   "outputs": [
    {
     "name": "stdout",
     "output_type": "stream",
     "text": [
      "Accuracy on test set: \n",
      "0.995525\n",
      "0.995525\n",
      "Precision score: \n",
      "0.8084264516846169 \n",
      "\n",
      "Recall score: \n",
      "0.7911642658430358 \n",
      "\n",
      "Classification Report: \n",
      "              precision    recall  f1-score   support\n",
      "\n",
      "       False       1.00      1.00      1.00     39769\n",
      "        True       0.62      0.58      0.60       231\n",
      "\n",
      "    accuracy                           1.00     40000\n",
      "   macro avg       0.81      0.79      0.80     40000\n",
      "weighted avg       1.00      1.00      1.00     40000\n",
      "\n",
      "Wall time: 1min 21s\n"
     ]
    }
   ],
   "source": [
    "%%time\n",
    "run_KNN(X_train_mi, X_test_mi, y_train, y_test)"
   ]
  },
  {
   "cell_type": "markdown",
   "id": "bb72289d",
   "metadata": {},
   "source": [
    "Accuracy Score with Original Features:"
   ]
  },
  {
   "cell_type": "code",
   "execution_count": 44,
   "id": "1a323278",
   "metadata": {},
   "outputs": [
    {
     "name": "stdout",
     "output_type": "stream",
     "text": [
      "Accuracy on test set: \n",
      "0.995225\n",
      "Precision score: \n",
      "0.7898642786571859 \n",
      "\n",
      "Recall score: \n",
      "0.8060769014652693 \n",
      "\n",
      "Classification Report: \n",
      "              precision    recall  f1-score   support\n",
      "\n",
      "       False       1.00      1.00      1.00     39769\n",
      "        True       0.58      0.61      0.60       231\n",
      "\n",
      "    accuracy                           1.00     40000\n",
      "   macro avg       0.79      0.81      0.80     40000\n",
      "weighted avg       1.00      1.00      1.00     40000\n",
      "\n"
     ]
    },
    {
     "data": {
      "image/png": "[encoded data removed]",
      "text/plain": [
       "<Figure size 576x396 with 1 Axes>"
      ]
     },
     "metadata": {},
     "output_type": "display_data"
    },
    {
     "name": "stdout",
     "output_type": "stream",
     "text": [
      "Wall time: 17.4 s\n"
     ]
    }
   ],
   "source": [
    "%%time\n",
    "run_KNN(X_train, X_test, y_train, y_test)"
   ]
  },
  {
   "cell_type": "markdown",
   "id": "518cf6c9",
   "metadata": {},
   "source": [
    "#### Logistic Regression"
   ]
  },
  {
   "cell_type": "code",
   "execution_count": 45,
   "id": "d852d3bd",
   "metadata": {},
   "outputs": [],
   "source": [
    "import warnings\n",
    "warnings.filterwarnings('ignore')\n",
    "from sklearn.linear_model import LogisticRegression\n",
    "def run_LogisticRegression(X_train, X_test, y_train, y_test):\n",
    "    model = LogisticRegression().fit(X_train, y_train)\n",
    "    y_pred = model.predict(X_test)\n",
    "    print('Accuracy on test set: ')\n",
    "    print(accuracy_score(y_test, y_pred))\n",
    "    print('Precision score: ')\n",
    "    print(precision_score(y_test, y_pred, average='macro'),'\\n')\n",
    "    print('Recall score: ')\n",
    "    print(recall_score(y_test, y_pred, average='macro'),'\\n')\n",
    "    print('Classification Report: ')\n",
    "    print(classification_report(y_test, y_pred))\n",
    "    \n",
    "    pred_prob1 = model.predict_proba(X_test)\n",
    "    fpr1, tpr1, thresh1 = roc_curve(y_test, pred_prob1[:,1], pos_label=1)\n",
    "\n",
    "    # roc curve for tpr = fpr \n",
    "    random_probs = [0 for i in range(len(y_test))]\n",
    "    p_fpr, p_tpr, _ = roc_curve(y_test, random_probs, pos_label=1)\n",
    "    \n",
    "    # matplotlib\n",
    "    plt.style.use('seaborn')\n",
    "\n",
    "    # plot roc curves\n",
    "    plt.plot(fpr1, tpr1, linestyle='--',color='orange', label='Logistic Regression')\n",
    "    plt.plot(p_fpr, p_tpr, linestyle='--', color='blue')\n",
    "    # title\n",
    "    plt.title('ROC curve')\n",
    "    # x label\n",
    "    plt.xlabel('False Positive Rate')\n",
    "    # y label\n",
    "    plt.ylabel('True Positive rate')\n",
    "\n",
    "    plt.legend(loc='best')\n",
    "    plt.savefig('ROC',dpi=300)\n",
    "    plt.show();"
   ]
  },
  {
   "cell_type": "code",
   "execution_count": 96,
   "id": "d81ff537",
   "metadata": {},
   "outputs": [
    {
     "name": "stdout",
     "output_type": "stream",
     "text": [
      "Accuracy on test set: \n",
      "0.9943\n",
      "0.9943\n",
      "Precision score: \n",
      "0.8049039014602823 \n",
      "\n",
      "Recall score: \n",
      "0.5172531542819958 \n",
      "\n",
      "Classification Report: \n",
      "              precision    recall  f1-score   support\n",
      "\n",
      "       False       0.99      1.00      1.00     39769\n",
      "        True       0.62      0.03      0.07       231\n",
      "\n",
      "    accuracy                           0.99     40000\n",
      "   macro avg       0.80      0.52      0.53     40000\n",
      "weighted avg       0.99      0.99      0.99     40000\n",
      "\n",
      "Wall time: 4.22 s\n"
     ]
    }
   ],
   "source": [
    "%%time\n",
    "run_LogisticRegression(X_train_mi, X_test_mi, y_train, y_test)"
   ]
  },
  {
   "cell_type": "markdown",
   "id": "3cbab7ab",
   "metadata": {},
   "source": [
    "Accuracy Score with Original Features:"
   ]
  },
  {
   "cell_type": "code",
   "execution_count": 46,
   "id": "35ddd7e8",
   "metadata": {},
   "outputs": [
    {
     "name": "stdout",
     "output_type": "stream",
     "text": [
      "Accuracy on test set: \n",
      "0.994425\n",
      "Precision score: \n",
      "0.8722614045618247 \n",
      "\n",
      "Recall score: \n",
      "0.5259237355468088 \n",
      "\n",
      "Classification Report: \n",
      "              precision    recall  f1-score   support\n",
      "\n",
      "       False       0.99      1.00      1.00     39769\n",
      "        True       0.75      0.05      0.10       231\n",
      "\n",
      "    accuracy                           0.99     40000\n",
      "   macro avg       0.87      0.53      0.55     40000\n",
      "weighted avg       0.99      0.99      0.99     40000\n",
      "\n"
     ]
    },
    {
     "data": {
      "image/png": "[encoded data removed]",
      "text/plain": [
       "<Figure size 576x396 with 1 Axes>"
      ]
     },
     "metadata": {},
     "output_type": "display_data"
    },
    {
     "name": "stdout",
     "output_type": "stream",
     "text": [
      "Wall time: 7.17 s\n"
     ]
    }
   ],
   "source": [
    "%%time\n",
    "run_LogisticRegression(X_train, X_test, y_train, y_test)"
   ]
  },
  {
   "cell_type": "markdown",
   "id": "b29a7859",
   "metadata": {},
   "source": [
    "### MI Feature Selection based Accuracy Scores Comparison"
   ]
  },
  {
   "cell_type": "code",
   "execution_count": 102,
   "id": "2e3e488c",
   "metadata": {},
   "outputs": [],
   "source": [
    "result = {\"Random Forest\": 0.9982,\"Decision Tree\": 0.9974,\"KNN\": 0.99545 ,\"Logistic Regression\": 0.9943}"
   ]
  },
  {
   "cell_type": "code",
   "execution_count": 103,
   "id": "56d1a313",
   "metadata": {},
   "outputs": [],
   "source": [
    "models = list(result.keys())\n",
    "accuracys = list(result.values())"
   ]
  },
  {
   "cell_type": "code",
   "execution_count": 104,
   "id": "5fc49c23",
   "metadata": {},
   "outputs": [
    {
     "data": {
      "text/plain": [
       "<Figure size 1440x720 with 0 Axes>"
      ]
     },
     "metadata": {},
     "output_type": "display_data"
    }
   ],
   "source": [
    "fig = plt.figure(figsize = (20, 10))"
   ]
  },
  {
   "cell_type": "code",
   "execution_count": 107,
   "id": "fe1c72e6",
   "metadata": {},
   "outputs": [
    {
     "data": {
      "image/png": "[encoded data removed]",
      "text/plain": [
       "<Figure size 432x288 with 1 Axes>"
      ]
     },
     "metadata": {
      "needs_background": "light"
     },
     "output_type": "display_data"
    }
   ],
   "source": [
    "plt.bar(models, accuracys, color ='green',\n",
    "        width = 0.4)\n",
    "\n",
    "plt.xlabel(\"Different Models used\")\n",
    "plt.ylabel(\"Accuracy on test set\")\n",
    "plt.title(\"Comparison of accuracy between different models\")\n",
    "plt.show()"
   ]
  },
  {
   "cell_type": "markdown",
   "id": "8d919633",
   "metadata": {},
   "source": [
    "# Genetic Algorithm based Feature Selection"
   ]
  },
  {
   "cell_type": "code",
   "execution_count": 113,
   "id": "c7a5518f",
   "metadata": {},
   "outputs": [],
   "source": [
    "from genetic_selection import GeneticSelectionCV\n",
    "from sklearn.tree import DecisionTreeClassifier"
   ]
  },
  {
   "cell_type": "code",
   "execution_count": 14,
   "id": "60a5e7df",
   "metadata": {},
   "outputs": [
    {
     "name": "stdout",
     "output_type": "stream",
     "text": [
      "Features: Index(['SourcePort', 'FlowBytesReceived', 'PacketLengthStandardDeviation',\n",
      "       'PacketLengthMedian', 'PacketLengthCoefficientofVariation'],\n",
      "      dtype='object')\n"
     ]
    }
   ],
   "source": [
    "estimator = DecisionTreeClassifier()\n",
    "model = GeneticSelectionCV(\n",
    "    estimator, cv=5, verbose=0,\n",
    "    scoring=\"accuracy\", max_features=5,\n",
    "    n_population=100, crossover_proba=0.5,\n",
    "    mutation_proba=0.2, n_generations=50,\n",
    "    crossover_independent_proba=0.5,\n",
    "    mutation_independent_proba=0.04,\n",
    "    tournament_size=3, n_gen_no_change=10,\n",
    "    caching=True, n_jobs=-1)\n",
    "model = model.fit(X_train, y_train)\n",
    "print('Features:', X_train.columns[model.support_])"
   ]
  },
  {
   "cell_type": "code",
   "execution_count": 8,
   "id": "1b978eda",
   "metadata": {
    "scrolled": true
   },
   "outputs": [],
   "source": [
    "xx_train = X_train[['SourcePort', 'FlowBytesReceived', 'PacketLengthStandardDeviation',\n",
    "                    'PacketLengthMedian', 'PacketLengthCoefficientofVariation']]\n",
    "yy_train = y_train\n",
    "xx_test = X_test[['SourcePort', 'FlowBytesReceived', 'PacketLengthStandardDeviation',\n",
    "                    'PacketLengthMedian', 'PacketLengthCoefficientofVariation']]"
   ]
  },
  {
   "cell_type": "markdown",
   "id": "60230511",
   "metadata": {},
   "source": [
    "### Decision tree"
   ]
  },
  {
   "cell_type": "code",
   "execution_count": 102,
   "id": "bed6ea86",
   "metadata": {},
   "outputs": [
    {
     "name": "stdout",
     "output_type": "stream",
     "text": [
      "Accuracy on test set: \n",
      "0.99735\n",
      "Precision score: \n",
      "0.8857839954701364 \n",
      "\n",
      "Recall score: \n",
      "0.8824631075630598 \n",
      "\n",
      "Classification Report: \n",
      "              precision    recall  f1-score   support\n",
      "\n",
      "       False       1.00      1.00      1.00     39769\n",
      "        True       0.77      0.77      0.77       231\n",
      "\n",
      "    accuracy                           1.00     40000\n",
      "   macro avg       0.89      0.88      0.88     40000\n",
      "weighted avg       1.00      1.00      1.00     40000\n",
      "\n"
     ]
    }
   ],
   "source": [
    "def run_DecisionTree(X_train, X_test, y_train, y_test):\n",
    "    clf = DecisionTreeClassifier(criterion='gini', random_state=0)\n",
    "    clf.fit(X_train, y_train)\n",
    "    y_pred = clf.predict(X_test)\n",
    "    print('Accuracy on test set: ')\n",
    "    print(accuracy_score(y_test, y_pred))\n",
    "    print('Precision score: ')\n",
    "    print(precision_score(y_test, y_pred, average='macro'),'\\n')\n",
    "    print('Recall score: ')\n",
    "    print(recall_score(y_test, y_pred, average='macro'),'\\n')\n",
    "    print('Classification Report: ')\n",
    "    print(classification_report(y_test, y_pred))\n",
    "\n",
    "run_DecisionTree(xx_train, xx_test, yy_train, y_test)"
   ]
  },
  {
   "cell_type": "markdown",
   "id": "e4b03270",
   "metadata": {},
   "source": [
    "### Random Forest Classifier"
   ]
  },
  {
   "cell_type": "code",
   "execution_count": 103,
   "id": "4af52d33",
   "metadata": {},
   "outputs": [
    {
     "name": "stdout",
     "output_type": "stream",
     "text": [
      "Accuracy on test set: \n",
      "0.99825\n",
      "Precision score: \n",
      "0.9818554845080696 \n",
      "\n",
      "Recall score: \n",
      "0.8613964258310356 \n",
      "\n",
      "Classification Report: \n",
      "              precision    recall  f1-score   support\n",
      "\n",
      "       False       1.00      1.00      1.00     39769\n",
      "        True       0.97      0.72      0.83       231\n",
      "\n",
      "    accuracy                           1.00     40000\n",
      "   macro avg       0.98      0.86      0.91     40000\n",
      "weighted avg       1.00      1.00      1.00     40000\n",
      "\n"
     ]
    }
   ],
   "source": [
    "from sklearn.ensemble import RandomForestClassifier\n",
    "def run_randomForest(X_train, X_test, y_train, y_test):\n",
    "    clf = RandomForestClassifier(n_estimators=100, random_state=0, n_jobs=-1)\n",
    "    clf.fit(X_train, y_train)\n",
    "    y_pred = clf.predict(X_test)\n",
    "    print('Accuracy on test set: ')\n",
    "    print(accuracy_score(y_test, y_pred))\n",
    "    print('Precision score: ')\n",
    "    print(precision_score(y_test, y_pred, average='macro'),'\\n')\n",
    "    print('Recall score: ')\n",
    "    print(recall_score(y_test, y_pred, average='macro'),'\\n')\n",
    "    print('Classification Report: ')\n",
    "    print(classification_report(y_test, y_pred))\n",
    "    \n",
    "run_randomForest(xx_train, xx_test, yy_train, y_test)"
   ]
  },
  {
   "cell_type": "markdown",
   "id": "8cf92eb2",
   "metadata": {},
   "source": [
    "### KNN"
   ]
  },
  {
   "cell_type": "code",
   "execution_count": 104,
   "id": "57782c67",
   "metadata": {},
   "outputs": [
    {
     "name": "stdout",
     "output_type": "stream",
     "text": [
      "Accuracy on test set: \n",
      "0.992675\n",
      "Precision score: \n",
      "0.6508408634538152 \n",
      "\n",
      "Recall score: \n",
      "0.6046650467053293 \n",
      "\n",
      "Classification Report: \n",
      "              precision    recall  f1-score   support\n",
      "\n",
      "       False       1.00      1.00      1.00     39769\n",
      "        True       0.31      0.21      0.25       231\n",
      "\n",
      "    accuracy                           0.99     40000\n",
      "   macro avg       0.65      0.60      0.62     40000\n",
      "weighted avg       0.99      0.99      0.99     40000\n",
      "\n"
     ]
    }
   ],
   "source": [
    "from sklearn.neighbors import KNeighborsClassifier\n",
    "def run_KNN(X_train, X_test, y_train, y_test):\n",
    "    knn = KNeighborsClassifier(n_neighbors = 1).fit(X_train, y_train)\n",
    "    y_pred = knn.predict(X_test)\n",
    "    print('Accuracy on test set: ')\n",
    "    print(accuracy_score(y_test, y_pred))\n",
    "    print('Precision score: ')\n",
    "    print(precision_score(y_test, y_pred, average='macro'),'\\n')\n",
    "    print('Recall score: ')\n",
    "    print(recall_score(y_test, y_pred, average='macro'),'\\n')\n",
    "    print('Classification Report: ')\n",
    "    print(classification_report(y_test, y_pred))\n",
    "    \n",
    "run_KNN(xx_train, xx_test, yy_train, y_test)"
   ]
  },
  {
   "cell_type": "markdown",
   "id": "f6b1ff5a",
   "metadata": {},
   "source": [
    "### Logistic Regression"
   ]
  },
  {
   "cell_type": "code",
   "execution_count": 105,
   "id": "452331cc",
   "metadata": {},
   "outputs": [
    {
     "name": "stdout",
     "output_type": "stream",
     "text": [
      "Accuracy on test set: \n",
      "0.994225\n",
      "Precision score: \n",
      "0.4971125 \n",
      "\n",
      "Recall score: \n",
      "0.5 \n",
      "\n",
      "Classification Report: \n",
      "              precision    recall  f1-score   support\n",
      "\n",
      "       False       0.99      1.00      1.00     39769\n",
      "        True       0.00      0.00      0.00       231\n",
      "\n",
      "    accuracy                           0.99     40000\n",
      "   macro avg       0.50      0.50      0.50     40000\n",
      "weighted avg       0.99      0.99      0.99     40000\n",
      "\n"
     ]
    }
   ],
   "source": [
    "import warnings\n",
    "warnings.filterwarnings('ignore')\n",
    "from sklearn.linear_model import LogisticRegression\n",
    "def run_LogisticRegression(X_train, X_test, y_train, y_test):\n",
    "    model = LogisticRegression().fit(X_train, y_train)\n",
    "    y_pred = model.predict(X_test)\n",
    "    print('Accuracy on test set: ')\n",
    "    print(accuracy_score(y_test, y_pred))\n",
    "    print('Precision score: ')\n",
    "    print(precision_score(y_test, y_pred, average='macro'),'\\n')\n",
    "    print('Recall score: ')\n",
    "    print(recall_score(y_test, y_pred, average='macro'),'\\n')\n",
    "    print('Classification Report: ')\n",
    "    print(classification_report(y_test, y_pred))\n",
    "    \n",
    "run_LogisticRegression(xx_train, xx_test, yy_train, y_test)"
   ]
  },
  {
   "cell_type": "markdown",
   "id": "2769d4c8",
   "metadata": {},
   "source": [
    "### Artifical Neural Network (ANN)"
   ]
  },
  {
   "cell_type": "markdown",
   "id": "6b51bf77",
   "metadata": {},
   "source": [
    "#### Genetic Algorithm"
   ]
  },
  {
   "cell_type": "code",
   "execution_count": 9,
   "id": "37a95815",
   "metadata": {},
   "outputs": [],
   "source": [
    "import tensorflow as tf"
   ]
  },
  {
   "cell_type": "code",
   "execution_count": 11,
   "id": "ff119223",
   "metadata": {},
   "outputs": [
    {
     "name": "stdout",
     "output_type": "stream",
     "text": [
      "Epoch 1/10\n",
      "5000/5000 [==============================] - 18s 3ms/step - loss: 170.4042 - accuracy: 0.9657\n",
      "Epoch 2/10\n",
      "5000/5000 [==============================] - 17s 3ms/step - loss: 3.0270 - accuracy: 0.9891\n",
      "Epoch 3/10\n",
      "5000/5000 [==============================] - 12s 2ms/step - loss: 3.0531 - accuracy: 0.9894\n",
      "Epoch 4/10\n",
      "5000/5000 [==============================] - 11s 2ms/step - loss: 2.1789 - accuracy: 0.9896\n",
      "Epoch 5/10\n",
      "5000/5000 [==============================] - 14s 3ms/step - loss: 2.1235 - accuracy: 0.9895\n",
      "Epoch 6/10\n",
      "5000/5000 [==============================] - 15s 3ms/step - loss: 1.7256 - accuracy: 0.9906\n",
      "Epoch 7/10\n",
      "5000/5000 [==============================] - 15s 3ms/step - loss: 1.3340 - accuracy: 0.9907\n",
      "Epoch 8/10\n",
      "5000/5000 [==============================] - 17s 3ms/step - loss: 1.2181 - accuracy: 0.9919\n",
      "Epoch 9/10\n",
      "5000/5000 [==============================] - 17s 3ms/step - loss: 1.0012 - accuracy: 0.9934\n",
      "Epoch 10/10\n",
      "5000/5000 [==============================] - 21s 4ms/step - loss: 0.0804 - accuracy: 0.9941\n"
     ]
    },
    {
     "data": {
      "text/plain": [
       "<keras.callbacks.History at 0x1f2be37d970>"
      ]
     },
     "execution_count": 11,
     "metadata": {},
     "output_type": "execute_result"
    }
   ],
   "source": [
    "ann1 = tf.keras.models.Sequential()\n",
    "ann1.add(tf.keras.layers.Dense(units=6,activation=\"relu\"))\n",
    "ann1.add(tf.keras.layers.Dense(units=6,activation=\"relu\"))\n",
    "ann1.add(tf.keras.layers.Dense(units=1,activation=\"sigmoid\"))\n",
    "ann1.compile(optimizer=\"adam\",loss=\"binary_crossentropy\",metrics=['accuracy'])\n",
    "ann1.fit(xx_train,yy_train,batch_size=32,epochs = 10)"
   ]
  },
  {
   "cell_type": "code",
   "execution_count": 12,
   "id": "ff9b110f",
   "metadata": {},
   "outputs": [
    {
     "name": "stdout",
     "output_type": "stream",
     "text": [
      "1250/1250 [==============================] - 4s 3ms/step - loss: 0.0637 - accuracy: 0.9943\n"
     ]
    },
    {
     "data": {
      "text/plain": [
       "0.9942749738693237"
      ]
     },
     "execution_count": 12,
     "metadata": {},
     "output_type": "execute_result"
    }
   ],
   "source": [
    "ann1.evaluate(xx_test, y_test)[1]"
   ]
  },
  {
   "cell_type": "markdown",
   "id": "79c01908",
   "metadata": {},
   "source": [
    "#### Mututal Information"
   ]
  },
  {
   "cell_type": "code",
   "execution_count": 59,
   "id": "f7b33fc7",
   "metadata": {},
   "outputs": [
    {
     "name": "stdout",
     "output_type": "stream",
     "text": [
      "Epoch 1/10\n",
      "5000/5000 [==============================] - 21s 4ms/step - loss: 57.5811 - accuracy: 0.9899\n",
      "Epoch 2/10\n",
      "5000/5000 [==============================] - 17s 3ms/step - loss: 3.3428 - accuracy: 0.9943\n",
      "Epoch 3/10\n",
      "5000/5000 [==============================] - 20s 4ms/step - loss: 1.6730 - accuracy: 0.9939\n",
      "Epoch 4/10\n",
      "5000/5000 [==============================] - 23s 5ms/step - loss: 1.5029 - accuracy: 0.9949\n",
      "Epoch 5/10\n",
      "5000/5000 [==============================] - 22s 4ms/step - loss: 1.6915 - accuracy: 0.9949\n",
      "Epoch 6/10\n",
      "5000/5000 [==============================] - 23s 5ms/step - loss: 1.5351 - accuracy: 0.9948\n",
      "Epoch 7/10\n",
      "5000/5000 [==============================] - 20s 4ms/step - loss: 0.8696 - accuracy: 0.9952\n",
      "Epoch 8/10\n",
      "5000/5000 [==============================] - 19s 4ms/step - loss: 1.1101 - accuracy: 0.9949\n",
      "Epoch 9/10\n",
      "5000/5000 [==============================] - 19s 4ms/step - loss: 0.5414 - accuracy: 0.9948\n",
      "Epoch 10/10\n",
      "5000/5000 [==============================] - 23s 5ms/step - loss: 0.3058 - accuracy: 0.9947\n"
     ]
    },
    {
     "data": {
      "text/plain": [
       "<keras.callbacks.History at 0x1f9b7711fa0>"
      ]
     },
     "execution_count": 59,
     "metadata": {},
     "output_type": "execute_result"
    }
   ],
   "source": [
    "ann = tf.keras.models.Sequential()\n",
    "ann.add(tf.keras.layers.Dense(units=6,activation=\"relu\"))\n",
    "ann.add(tf.keras.layers.Dense(units=6,activation=\"relu\"))\n",
    "ann.add(tf.keras.layers.Dense(units=1,activation=\"sigmoid\"))\n",
    "ann.compile(optimizer=\"adam\",loss=\"binary_crossentropy\",metrics=['accuracy'])\n",
    "ann.fit(X_train_mi,yy_train,batch_size=32,epochs = 10)"
   ]
  },
  {
   "cell_type": "code",
   "execution_count": 69,
   "id": "ddc3aaf1",
   "metadata": {},
   "outputs": [
    {
     "name": "stdout",
     "output_type": "stream",
     "text": [
      "1250/1250 [==============================] - 1s 1ms/step - loss: 0.0338 - accuracy: 0.9942\n"
     ]
    },
    {
     "data": {
      "text/plain": [
       "0.994225025177002"
      ]
     },
     "execution_count": 69,
     "metadata": {},
     "output_type": "execute_result"
    }
   ],
   "source": [
    "ann.evaluate(X_test_mi, y_test)[1]"
   ]
  },
  {
   "cell_type": "markdown",
   "id": "3c2bebbf",
   "metadata": {},
   "source": [
    "### Original Features"
   ]
  },
  {
   "cell_type": "code",
   "execution_count": 26,
   "id": "fe0b8664",
   "metadata": {},
   "outputs": [
    {
     "name": "stdout",
     "output_type": "stream",
     "text": [
      "Epoch 1/10\n",
      "5000/5000 [==============================] - 19s 4ms/step - loss: 488.8383 - accuracy: 0.9679\n",
      "Epoch 2/10\n",
      "5000/5000 [==============================] - 21s 4ms/step - loss: 3.2546 - accuracy: 0.9922\n",
      "Epoch 3/10\n",
      "5000/5000 [==============================] - 18s 4ms/step - loss: 2.1782 - accuracy: 0.9922\n",
      "Epoch 4/10\n",
      "5000/5000 [==============================] - 17s 3ms/step - loss: 0.8025 - accuracy: 0.9932\n",
      "Epoch 5/10\n",
      "5000/5000 [==============================] - 20s 4ms/step - loss: 0.0647 - accuracy: 0.9941\n",
      "Epoch 6/10\n",
      "5000/5000 [==============================] - 18s 4ms/step - loss: 0.0384 - accuracy: 0.9942\n",
      "Epoch 7/10\n",
      "5000/5000 [==============================] - 17s 3ms/step - loss: 0.0362 - accuracy: 0.9942\n",
      "Epoch 8/10\n",
      "5000/5000 [==============================] - 19s 4ms/step - loss: 0.0386 - accuracy: 0.9942\n",
      "Epoch 9/10\n",
      "5000/5000 [==============================] - 20s 4ms/step - loss: 0.0508 - accuracy: 0.9942\n",
      "Epoch 10/10\n",
      "5000/5000 [==============================] - 20s 4ms/step - loss: 0.0353 - accuracy: 0.9942\n"
     ]
    },
    {
     "data": {
      "text/plain": [
       "<keras.callbacks.History at 0x146533d8f40>"
      ]
     },
     "execution_count": 26,
     "metadata": {},
     "output_type": "execute_result"
    }
   ],
   "source": [
    "ann3 = tf.keras.models.Sequential()\n",
    "ann3.add(tf.keras.layers.Dense(units=6,activation=\"relu\"))\n",
    "ann3.add(tf.keras.layers.Dense(units=6,activation=\"relu\"))\n",
    "ann3.add(tf.keras.layers.Dense(units=1,activation=\"sigmoid\"))\n",
    "ann3.compile(optimizer=\"adam\",loss=\"binary_crossentropy\",metrics=['accuracy'])\n",
    "ann3.fit(X_train,y_train,batch_size=32,epochs = 10)"
   ]
  },
  {
   "cell_type": "code",
   "execution_count": 27,
   "id": "91cd3baf",
   "metadata": {},
   "outputs": [
    {
     "name": "stdout",
     "output_type": "stream",
     "text": [
      "1250/1250 [==============================] - 5s 4ms/step - loss: 0.0351 - accuracy: 0.9942: 0s - loss: 0.0353 - \n"
     ]
    },
    {
     "data": {
      "text/plain": [
       "0.994225025177002"
      ]
     },
     "execution_count": 27,
     "metadata": {},
     "output_type": "execute_result"
    }
   ],
   "source": [
    "ann3.evaluate(X_test, y_test)[1]"
   ]
  },
  {
   "cell_type": "markdown",
   "id": "cd1d7904",
   "metadata": {},
   "source": [
    "## Final Comparison Graph "
   ]
  },
  {
   "cell_type": "code",
   "execution_count": 75,
   "id": "84a48a19",
   "metadata": {},
   "outputs": [
    {
     "data": {
      "image/png": "[encoded data removed]",
      "text/plain": [
       "<Figure size 432x288 with 1 Axes>"
      ]
     },
     "metadata": {
      "needs_background": "light"
     },
     "output_type": "display_data"
    }
   ],
   "source": [
    "labels = ['ANN', 'Decision Tree', 'KNN', 'Random Forest', 'Logistic Regression']\n",
    "OG_means = [0.994225, 0.998, 0.997375, 0.995225, 0.994475]\n",
    "MI_means = [0.994225, 0.9974, 0.99545, 0.9982, 0.9943]\n",
    "GA_means = [0.994525, 0.99735, 0.992675, 0.99825, 0.994225]\n",
    "\n",
    "x = np.arange(len(labels))  # the label locations\n",
    "width = 0.2  # the width of the bars\n",
    "\n",
    "fig, ax = plt.subplots()\n",
    "rects1 = ax.bar(x - 2*width/3, MI_means, width, label='Mutual Information')\n",
    "rects2 = ax.bar(x + width/3, GA_means, width, label='Genetic Algorithm')\n",
    "rects3 = ax.bar(x + 4*width/3, OG_means, width, label='Original Features')\n",
    "\n",
    "# Add some text for labels, title and custom x-axis tick labels, etc.\n",
    "ax.set_ylabel('Accuracy Scores')\n",
    "ax.set_xlabel('Different Models used')\n",
    "ax.set_title('Comparison of accuracy in GA and MI between different models')\n",
    "ax.set_xticks(x)\n",
    "ax.set_xticklabels(labels)\n",
    "ax.legend()\n",
    "\n",
    "def autolabel(rects):\n",
    "    \"\"\"Attach a text label above each bar in rects, displaying its height.\"\"\"\n",
    "    for rect in rects:\n",
    "        height = rect.get_height()\n",
    "        ax.annotate('{}'.format(height),\n",
    "                    xy=(rect.get_x() + rect.get_width() / 2, height),\n",
    "                    xytext=(0, 3),  # 3 points vertical offset\n",
    "                    textcoords=\"offset points\",\n",
    "                    ha='center', va='bottom')\n",
    "\n",
    "# autolabel(rects1)\n",
    "# autolabel(rects2)\n",
    "# autolabel(rects3)\n",
    "\n",
    "ax.set_ylim(bottom=0.99155, top=1.0005)\n",
    "fig.tight_layout()\n",
    "\n",
    "plt.show()"
   ]
  },
  {
   "cell_type": "code",
   "execution_count": 24,
   "id": "809c1a7b",
   "metadata": {},
   "outputs": [
    {
     "data": {
      "image/png": "[encoded data removed]",
      "text/plain": [
       "<Figure size 432x288 with 1 Axes>"
      ]
     },
     "metadata": {
      "needs_background": "light"
     },
     "output_type": "display_data"
    }
   ],
   "source": [
    "labels = ['Decision Tree', 'KNN', 'Random Forest', 'Logistic Regression']\n",
    "OG_means = [0.8744716715306431, 0.7898642786571859, 0.9806663072264878, 0.8049039014602823]\n",
    "MI_means = [0.9011222392984204, 0.8084264516846169, 0.9806663072264878, 0.8049039014602823]\n",
    "GA_means = [0.8857839954701364, 0.6508408634538152, 0.9818554845080696, 0.4971125]\n",
    "\n",
    "x = np.arange(len(labels))  # the label locations\n",
    "width = 0.2  # the width of the bars\n",
    "\n",
    "fig, ax = plt.subplots()\n",
    "rects1 = ax.bar(x - 2*width/3, MI_means, width, label='Mutual Information')\n",
    "rects2 = ax.bar(x + width/3, GA_means, width, label='Genetic Algorithm')\n",
    "rects3 = ax.bar(x + 4*width/3, OG_means, width, label='Original Features')\n",
    "\n",
    "# Add some text for labels, title and custom x-axis tick labels, etc.\n",
    "ax.set_ylabel('Precision Scores')\n",
    "ax.set_xlabel('Different Models used')\n",
    "ax.set_title('Comparison of precision in GA and MI between different models')\n",
    "ax.set_xticks(x)\n",
    "ax.set_xticklabels(labels)\n",
    "ax.legend()\n",
    "\n",
    "def autolabel(rects):\n",
    "    \"\"\"Attach a text label above each bar in rects, displaying its height.\"\"\"\n",
    "    for rect in rects:\n",
    "        height = rect.get_height()\n",
    "        ax.annotate('{}'.format(height),\n",
    "                    xy=(rect.get_x() + rect.get_width() / 2, height),\n",
    "                    xytext=(0, 3),  # 3 points vertical offset\n",
    "                    textcoords=\"offset points\",\n",
    "                    ha='center', va='bottom')\n",
    "\n",
    "\n",
    "ax.set_ylim(bottom=0.4, top=1.07)\n",
    "fig.tight_layout()\n",
    "\n",
    "plt.show()"
   ]
  },
  {
   "cell_type": "code",
   "execution_count": null,
   "id": "2781c58e",
   "metadata": {},
   "outputs": [],
   "source": []
  }
 ],
 "metadata": {
  "kernelspec": {
   "display_name": "Python 3 (ipykernel)",
   "language": "python",
   "name": "python3"
  },
  "language_info": {
   "codemirror_mode": {
    "name": "ipython",
    "version": 3
   },
   "file_extension": ".py",
   "mimetype": "text/x-python",
   "name": "python",
   "nbconvert_exporter": "python",
   "pygments_lexer": "ipython3",
   "version": "3.9.7"
  }
 },
 "nbformat": 4,
 "nbformat_minor": 5
}
